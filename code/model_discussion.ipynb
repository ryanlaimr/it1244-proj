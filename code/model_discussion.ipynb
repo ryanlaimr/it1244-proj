{
  "nbformat": 4,
  "nbformat_minor": 0,
  "metadata": {
    "colab": {
      "provenance": []
    },
    "kernelspec": {
      "name": "python3",
      "display_name": "Python 3"
    },
    "language_info": {
      "name": "python"
    }
  },
  "cells": [
    {
      "cell_type": "code",
      "execution_count": null,
      "metadata": {
        "id": "7_4kAqpAhgtG"
      },
      "outputs": [],
      "source": [
        "import pandas as pd\n",
        "import numpy as np\n",
        "import csv"
      ]
    },
    {
      "cell_type": "markdown",
      "source": [
        "# Logestic Regression by Yiling"
      ],
      "metadata": {
        "id": "wyHLdqHQyc3r"
      }
    },
    {
      "cell_type": "code",
      "source": [
        "from sklearn.preprocessing import StandardScaler\n",
        "from sklearn.linear_model import LogisticRegression\n",
        "from sklearn.metrics import classification_report, confusion_matrix, accuracy_score\n",
        "\n",
        "Test_Set_PATH = 'Test_Set.csv'\n",
        "Train_Set_PATH = 'Train_Set.csv'\n",
        "\n",
        "train_data = pd.read_csv(Train_Set_PATH)\n",
        "test_data = pd.read_csv(Test_Set_PATH)\n",
        "\n",
        "\n",
        "X_train = train_data.iloc[:, :350]\n",
        "y_train = (train_data['class_label'] != 'healthy').astype(int)\n",
        "\n",
        "X_test = test_data.iloc[:, :350]\n",
        "y_test = (test_data['class_label'] != 'healthy').astype(int)\n",
        "\n",
        "# Feature scaling\n",
        "scaler = StandardScaler()\n",
        "X_train_scaled = scaler.fit_transform(X_train)\n",
        "X_test_scaled = scaler.transform(X_test)\n",
        "\n",
        "model = LogisticRegression(max_iter=1000, class_weight='balanced')\n",
        "model.fit(X_train_scaled, y_train)\n",
        "\n",
        "y_pred_train = model.predict(X_train_scaled)\n",
        "y_pred_test = model.predict(X_test_scaled)\n",
        "\n",
        "print(\"Training Classification Report:\")\n",
        "print(classification_report(y_train, y_pred_train))\n",
        "\n",
        "print(\"Testing Classification Report:\")\n",
        "print(classification_report(y_test, y_pred_test))\n",
        "\n",
        "print(\"Confusion Matrix for Testing Data:\")\n",
        "print(confusion_matrix(y_test, y_pred_test))\n",
        "\n",
        "print(\"\\nAccuracy Score for Testing Data:\")\n",
        "print(accuracy_score(y_test, y_pred_test))"
      ],
      "metadata": {
        "colab": {
          "base_uri": "https://localhost:8080/"
        },
        "id": "5lyDjhYoq3C0",
        "outputId": "1dd6863e-085d-4ec9-dbcd-0c91a5160b40"
      },
      "execution_count": null,
      "outputs": [
        {
          "output_type": "stream",
          "name": "stdout",
          "text": [
            "Training Classification Report:\n",
            "              precision    recall  f1-score   support\n",
            "\n",
            "           0       0.11      0.98      0.19        60\n",
            "           1       1.00      0.77      0.87      2133\n",
            "\n",
            "    accuracy                           0.77      2193\n",
            "   macro avg       0.55      0.87      0.53      2193\n",
            "weighted avg       0.97      0.77      0.85      2193\n",
            "\n",
            "Testing Classification Report:\n",
            "              precision    recall  f1-score   support\n",
            "\n",
            "           0       0.14      0.85      0.24        41\n",
            "           1       0.99      0.78      0.87       993\n",
            "\n",
            "    accuracy                           0.78      1034\n",
            "   macro avg       0.56      0.82      0.55      1034\n",
            "weighted avg       0.96      0.78      0.85      1034\n",
            "\n",
            "Confusion Matrix for Testing Data:\n",
            "[[ 35   6]\n",
            " [220 773]]\n",
            "\n",
            "Accuracy Score for Testing Data:\n",
            "0.781431334622824\n"
          ]
        }
      ]
    },
    {
      "cell_type": "markdown",
      "source": [
        "References:\n",
        "1. Ting, K.M. (2011). Confusion Matrix. In: Sammut, C., Webb, G.I. (eds) Encyclopedia of Machine Learning. Springer, Boston, MA. https://doi.org/10.1007/978-0-387-30164-8_157\n",
        "\n",
        "2. Sklearn.linear_model.logisticregression. scikit. (2018). https://scikit-learn.org/stable/modules/generated/sklearn.linear_model.LogisticRegression.html"
      ],
      "metadata": {
        "id": "bFDO8ezpGksp"
      }
    },
    {
      "cell_type": "markdown",
      "source": [
        "**Subsection 1: Screening Stage Cancer vs Healthy**"
      ],
      "metadata": {
        "id": "eQ4IxH6NdEi1"
      }
    },
    {
      "cell_type": "code",
      "source": [
        "from sklearn.linear_model import LogisticRegression\n",
        "from sklearn.metrics import classification_report, accuracy_score\n",
        "from sklearn.preprocessing import StandardScaler\n",
        "\n",
        "Test_Set_PATH = 'Test_Set.csv'\n",
        "Train_Set_PATH = 'Train_Set.csv'\n",
        "\n",
        "Train_Data = pd.read_csv(Train_Set_PATH)\n",
        "Test_Data = pd.read_csv(Test_Set_PATH)\n",
        "\n",
        "filteredTrain = Train_Data[(Train_Data['class_label'] == 'screening stage cancer') | (Train_Data['class_label'] == 'healthy')]\n",
        "filteredTest = Test_Data[(Test_Data['class_label'] == 'screening stage cancer') | (Test_Data['class_label'] =='healthy')]\n",
        "\n",
        "X_Train = filteredTrain.drop('class_label', axis=1)\n",
        "y_Train = filteredTrain['class_label']\n",
        "X_Val = filteredTest.drop('class_label', axis=1)\n",
        "y_Val = filteredTest['class_label']\n",
        "\n",
        "# Feature scaling\n",
        "scaler = StandardScaler()\n",
        "X_Train_scaled, X_Val_scaled = scaler.fit_transform(X_Train), scaler.transform(X_Val)\n",
        "\n",
        "log_reg = LogisticRegression(max_iter=1000, class_weight='balanced')\n",
        "log_reg.fit(X_Train_scaled, y_Train)\n",
        "\n",
        "y_pred_train = log_reg.predict(X_Train_scaled)\n",
        "y_pred_val = log_reg.predict(X_Val_scaled)\n",
        "\n",
        "train_report = classification_report(y_Train, y_pred_train)\n",
        "val_report = classification_report(y_Val, y_pred_val)\n",
        "\n",
        "train_accuracy = accuracy_score(y_Train, y_pred_train)\n",
        "val_accuracy = accuracy_score(y_Val, y_pred_val)\n",
        "\n",
        "print(f'Training classification report:\\n{train_report}')\n",
        "print(f'Testing classification report:\\n{val_report}')\n",
        "print(f'Training accuracy: {train_accuracy}')\n",
        "print(f'Testing accuracy: {val_accuracy}')\n"
      ],
      "metadata": {
        "colab": {
          "base_uri": "https://localhost:8080/"
        },
        "id": "8ctTFimKa2Pq",
        "outputId": "7d976f14-720c-4dc2-edaf-828b50a0a3e7"
      },
      "execution_count": null,
      "outputs": [
        {
          "output_type": "stream",
          "name": "stdout",
          "text": [
            "Training classification report:\n",
            "                        precision    recall  f1-score   support\n",
            "\n",
            "               healthy       0.21      0.67      0.32        60\n",
            "screening stage cancer       0.94      0.69      0.80       490\n",
            "\n",
            "              accuracy                           0.69       550\n",
            "             macro avg       0.58      0.68      0.56       550\n",
            "          weighted avg       0.86      0.69      0.74       550\n",
            "\n",
            "Testing classification report:\n",
            "                        precision    recall  f1-score   support\n",
            "\n",
            "               healthy       0.20      0.59      0.30        41\n",
            "screening stage cancer       0.89      0.58      0.70       230\n",
            "\n",
            "              accuracy                           0.58       271\n",
            "             macro avg       0.54      0.58      0.50       271\n",
            "          weighted avg       0.78      0.58      0.64       271\n",
            "\n",
            "Training accuracy: 0.6872727272727273\n",
            "Testing accuracy: 0.5830258302583026\n"
          ]
        }
      ]
    },
    {
      "cell_type": "markdown",
      "source": [
        "**Subsection 2: Early Stage Cancer vs Healthy**"
      ],
      "metadata": {
        "id": "s6de0HgjdI6O"
      }
    },
    {
      "cell_type": "code",
      "source": [
        "from sklearn.linear_model import LogisticRegression\n",
        "from sklearn.metrics import classification_report, accuracy_score\n",
        "from sklearn.preprocessing import StandardScaler\n",
        "\n",
        "Test_Set_PATH = 'Test_Set.csv'\n",
        "Train_Set_PATH = 'Train_Set.csv'\n",
        "\n",
        "train_data = pd.read_csv(Train_Set_PATH)\n",
        "test_data = pd.read_csv(Test_Set_PATH)\n",
        "\n",
        "filteredTrain = Train_Data[(Train_Data['class_label'] == 'early stage cancer') | (Train_Data['class_label'] == 'healthy')]\n",
        "filteredTest = Test_Data[(Test_Data['class_label'] == 'early stage cancer') | (Test_Data['class_label'] =='healthy')]\n",
        "\n",
        "X_Train = filteredTrain.drop('class_label', axis=1)\n",
        "y_Train = filteredTrain['class_label']\n",
        "X_Val = filteredTest.drop('class_label', axis=1)\n",
        "y_Val = filteredTest['class_label']\n",
        "\n",
        "## Feature scaling\n",
        "scaler = StandardScaler()\n",
        "X_Train_scaled, X_Val_scaled = scaler.fit_transform(X_Train), scaler.transform(X_Val)\n",
        "\n",
        "log_reg = LogisticRegression(max_iter=1000, class_weight='balanced')\n",
        "log_reg.fit(X_Train_scaled, y_Train)\n",
        "\n",
        "y_pred_train = log_reg.predict(X_Train_scaled)\n",
        "y_pred_val = log_reg.predict(X_Val_scaled)\n",
        "\n",
        "train_report = classification_report(y_Train, y_pred_train)\n",
        "val_report = classification_report(y_Val, y_pred_val)\n",
        "\n",
        "train_accuracy = accuracy_score(y_Train, y_pred_train)\n",
        "val_accuracy = accuracy_score(y_Val, y_pred_val)\n",
        "\n",
        "print(f'Training classification report:\\n{train_report}')\n",
        "print(f'Testing classification report:\\n{val_report}')\n",
        "print(f'Training accuracy: {train_accuracy}')\n",
        "print(f'Testing accuracy: {val_accuracy}')"
      ],
      "metadata": {
        "id": "z9cM_cxRbuQM",
        "colab": {
          "base_uri": "https://localhost:8080/"
        },
        "outputId": "5d90d945-31fb-43f9-f766-5da3508cbdf0"
      },
      "execution_count": null,
      "outputs": [
        {
          "output_type": "stream",
          "name": "stdout",
          "text": [
            "Training classification report:\n",
            "                    precision    recall  f1-score   support\n",
            "\n",
            "early stage cancer       1.00      0.91      0.95       781\n",
            "           healthy       0.45      0.97      0.61        60\n",
            "\n",
            "          accuracy                           0.91       841\n",
            "         macro avg       0.72      0.94      0.78       841\n",
            "      weighted avg       0.96      0.91      0.93       841\n",
            "\n",
            "Testing classification report:\n",
            "                    precision    recall  f1-score   support\n",
            "\n",
            "early stage cancer       0.99      0.90      0.94       368\n",
            "           healthy       0.50      0.88      0.64        41\n",
            "\n",
            "          accuracy                           0.90       409\n",
            "         macro avg       0.74      0.89      0.79       409\n",
            "      weighted avg       0.94      0.90      0.91       409\n",
            "\n",
            "Training accuracy: 0.9131985731272295\n",
            "Testing accuracy: 0.8997555012224939\n"
          ]
        }
      ]
    },
    {
      "cell_type": "markdown",
      "source": [
        "**Receiver Operating Characteristic Curve**"
      ],
      "metadata": {
        "id": "7n0dG0pyqsd5"
      }
    },
    {
      "cell_type": "code",
      "source": [
        "import matplotlib.pyplot as plt\n",
        "from sklearn.linear_model import LogisticRegression\n",
        "from sklearn.metrics import roc_curve, auc\n",
        "from sklearn.model_selection import train_test_split\n",
        "from sklearn.preprocessing import StandardScaler\n",
        "\n",
        "Test_Set_PATH = 'Test_Set.csv'\n",
        "Train_Set_PATH = 'Train_Set.csv'\n",
        "\n",
        "train_data = pd.read_csv(Train_Set_PATH)\n",
        "test_data = pd.read_csv(Test_Set_PATH)\n",
        "\n",
        "X_train = train_data.iloc[:, :350]\n",
        "y_train = (train_data['class_label'] != 'healthy').astype(int)\n",
        "\n",
        "X_test = test_data.iloc[:, :350]\n",
        "y_test = (test_data['class_label'] != 'healthy').astype(int)\n",
        "\n",
        "scaler = StandardScaler()\n",
        "X_train_scaled = scaler.fit_transform(X_train)\n",
        "X_test_scaled = scaler.transform(X_test)\n",
        "\n",
        "# Logistic Regression model\n",
        "model = LogisticRegression(max_iter=1000, class_weight='balanced')\n",
        "model.fit(X_train_scaled, y_train)\n",
        "\n",
        "# Predict probabilities for positive class (class 1)\n",
        "y_pred_prob = model.predict_proba(X_test_scaled)[:, 1]\n",
        "\n",
        "fpr, tpr, thresholds = roc_curve(y_test, y_pred_prob)\n",
        "roc_auc = auc(fpr, tpr)\n",
        "\n",
        "plt.figure(figsize=(8, 6))\n",
        "plt.plot(fpr, tpr, color='blue', lw=2, label='ROC curve (area = %0.2f)' % roc_auc)\n",
        "plt.plot([0, 1], [0, 1], color='black', linestyle='--')\n",
        "plt.xlim([0.0, 1.0])\n",
        "plt.ylim([0.0, 1.1])\n",
        "plt.xlabel('False Positive Rate')\n",
        "plt.ylabel('True Positive Rate')\n",
        "plt.title('Receiver Operating Characteristic (ROC) Curve')\n",
        "plt.legend(loc='lower right')\n",
        "plt.show()"
      ],
      "metadata": {
        "colab": {
          "base_uri": "https://localhost:8080/",
          "height": 564
        },
        "id": "SNukyz3jqtYY",
        "outputId": "366fa601-9576-4c62-898d-4bea63c9d96c"
      },
      "execution_count": null,
      "outputs": [
        {
          "output_type": "display_data",
          "data": {
            "text/plain": [
              "<Figure size 800x600 with 1 Axes>"
            ],
            "image/png": "[encoded data removed]"
          },
          "metadata": {}
        }
      ]
    },
    {
      "cell_type": "markdown",
      "source": [
        "# Support Vector Machine by Zheyuan"
      ],
      "metadata": {
        "id": "FY0Dq0zWylHg"
      }
    },
    {
      "cell_type": "markdown",
      "source": [
        "**Read Data**"
      ],
      "metadata": {
        "id": "Adb3-zLGphsH"
      }
    },
    {
      "cell_type": "code",
      "source": [
        "Test_Set_PATH = 'Test_Set.csv'\n",
        "Train_Set_PATH = 'Train_Set.csv'\n",
        "\n",
        "TrainData = pd.read_csv(Train_Set_PATH)\n",
        "TestData = pd.read_csv(Test_Set_PATH)"
      ],
      "metadata": {
        "id": "IS11MUgqn7ZR"
      },
      "execution_count": null,
      "outputs": []
    },
    {
      "cell_type": "code",
      "source": [
        "TrainData['class_label'].value_counts(), TestData['class_label'].value_counts()"
      ],
      "metadata": {
        "id": "JwVpdCuOpq8m"
      },
      "execution_count": null,
      "outputs": []
    },
    {
      "cell_type": "markdown",
      "source": [
        "**Cancer vs Healthy**"
      ],
      "metadata": {
        "id": "WaF-aXzysSA_"
      }
    },
    {
      "cell_type": "code",
      "source": [
        "from sklearn.preprocessing import StandardScaler\n",
        "\n",
        "# 0: Healthy, 1: Any Cancer Stage\n",
        "TrainData['binary_label'] = TrainData['class_label'].apply(lambda x: 0 if x == 'healthy' else 1)\n",
        "TestData['binary_label'] = TestData['class_label'].apply(lambda x: 0 if x == 'healthy' else 1)\n",
        "\n",
        "X_Train = TrainData.drop(['class_label', 'binary_label'], axis=1)[:-1]\n",
        "y_Train = TrainData['binary_label'][:-1]\n",
        "X_Val = TestData.drop(['class_label', 'binary_label'], axis=1)[:-1]\n",
        "y_Val = TestData['binary_label'][:-1]\n",
        "\n",
        "scaler = StandardScaler()\n",
        "X_Train, X_Val = scaler.fit_transform(X_Train), scaler.transform(X_Val)\n",
        "\n",
        "X_Train.shape, X_Val.shape, y_Train.value_counts(), y_Val.value_counts()"
      ],
      "metadata": {
        "id": "X4Tnn9n2snAZ"
      },
      "execution_count": null,
      "outputs": []
    },
    {
      "cell_type": "code",
      "source": [
        "from sklearn.svm import SVC\n",
        "from sklearn.metrics import roc_curve, auc\n",
        "from sklearn.metrics import classification_report, confusion_matrix, accuracy_score\n",
        "import matplotlib.pyplot as plt\n",
        "\n",
        "svm_clf = SVC(kernel='linear', probability=True, class_weight='balanced')\n",
        "svm_clf.fit(X_Train, y_Train)\n",
        "\n",
        "y_pred_train = svm_clf.predict(X_Train)\n",
        "y_pred_val = svm_clf.predict(X_Val)\n",
        "\n",
        "train_report = classification_report(y_Train, y_pred_train)\n",
        "val_report = classification_report(y_Val, y_pred_val)\n",
        "\n",
        "train_accuracy = accuracy_score(y_Train, y_pred_train)\n",
        "val_accuracy = accuracy_score(y_Val, y_pred_val)\n",
        "\n",
        "confusion_matrix = confusion_matrix(y_Val, y_pred_val)\n",
        "\n",
        "print(f'Training classification report: \\n{train_report}')\n",
        "print(f'Testing classification report: \\n{val_report}')\n",
        "#print(f'Confusion matrix: \\n{confusion_matrix}')\n",
        "print(f'Training accuracy: {train_accuracy}')\n",
        "print(f'\\nTesting accuracy: {val_accuracy}')\n",
        "\n",
        "y_pred_prob = svm_clf.predict_proba(X_Val)[:, 1]\n",
        "\n",
        "fpr, tpr, thresholds = roc_curve(y_Val, y_pred_prob)\n",
        "roc_auc = auc(fpr, tpr)\n",
        "\n",
        "plt.figure(figsize=(8, 6))\n",
        "plt.plot(fpr, tpr, color='blue', lw=2, label='ROC curve (area = %0.2f)' % roc_auc)\n",
        "plt.plot([0, 1], [0, 1], color='black', linestyle='--')\n",
        "plt.xlim([0.0, 1.0])\n",
        "plt.ylim([0.0, 1.1])\n",
        "plt.xlabel('False Positive Rate')\n",
        "plt.ylabel('True Positive Rate')\n",
        "plt.title('Receiver Operating Characteristic (ROC) Curve')\n",
        "plt.legend(loc='lower right')\n",
        "plt.show()"
      ],
      "metadata": {
        "colab": {
          "base_uri": "https://localhost:8080/",
          "height": 975
        },
        "id": "3bPgzRoFuMoq",
        "outputId": "944c2c39-729e-4de3-e568-de6eac27ea1f"
      },
      "execution_count": null,
      "outputs": [
        {
          "output_type": "stream",
          "name": "stdout",
          "text": [
            "Training classification report: \n",
            "              precision    recall  f1-score   support\n",
            "\n",
            "           0       0.10      0.98      0.18        60\n",
            "           1       1.00      0.75      0.86      2132\n",
            "\n",
            "    accuracy                           0.76      2192\n",
            "   macro avg       0.55      0.87      0.52      2192\n",
            "weighted avg       0.97      0.76      0.84      2192\n",
            "\n",
            "Testing classification report: \n",
            "              precision    recall  f1-score   support\n",
            "\n",
            "           0       0.13      0.83      0.23        41\n",
            "           1       0.99      0.77      0.87       992\n",
            "\n",
            "    accuracy                           0.77      1033\n",
            "   macro avg       0.56      0.80      0.55      1033\n",
            "weighted avg       0.96      0.77      0.84      1033\n",
            "\n",
            "Training accuracy: 0.7577554744525548\n",
            "\n",
            "Testing accuracy: 0.7744433688286544\n"
          ]
        },
        {
          "output_type": "display_data",
          "data": {
            "text/plain": [
              "<Figure size 800x600 with 1 Axes>"
            ],
            "image/png": "[encoded data removed]"
          },
          "metadata": {}
        }
      ]
    },
    {
      "cell_type": "markdown",
      "source": [
        "**Screening Stage Cancer vs Healthy**"
      ],
      "metadata": {
        "id": "nczXvzgBriio"
      }
    },
    {
      "cell_type": "code",
      "source": [
        "filteredTrain = TrainData[(TrainData['class_label'] == 'screening stage cancer') | (TrainData['class_label'] == 'healthy')]\n",
        "filteredTest = TestData[(TestData['class_label'] == 'screening stage cancer') | (TestData['class_label'] =='healthy')]\n",
        "\n",
        "# 0: Healthy | 1: Screening Stage Cancer\n",
        "X_Train = filteredTrain.drop(['class_label', 'binary_label'], axis=1)\n",
        "y_Train = filteredTrain['binary_label']\n",
        "X_Val = filteredTest.drop(['class_label', 'binary_label'], axis=1)\n",
        "y_Val = filteredTest['binary_label']\n",
        "\n",
        "scaler = StandardScaler()\n",
        "X_Train, X_Val = scaler.fit_transform(X_Train), scaler.transform(X_Val)\n",
        "\n",
        "X_Train.shape, X_Val.shape, y_Train.value_counts(), y_Val.value_counts()"
      ],
      "metadata": {
        "id": "xJr1qDYtqpvN"
      },
      "execution_count": null,
      "outputs": []
    },
    {
      "cell_type": "code",
      "source": [
        "svm_clf = SVC(kernel='linear', probability=True, class_weight='balanced')\n",
        "svm_clf.fit(X_Train, y_Train)\n",
        "\n",
        "y_pred_train = svm_clf.predict(X_Train)\n",
        "y_pred_val = svm_clf.predict(X_Val)\n",
        "\n",
        "train_report = classification_report(y_Train, y_pred_train)\n",
        "val_report = classification_report(y_Val, y_pred_val)\n",
        "\n",
        "train_accuracy = accuracy_score(y_Train, y_pred_train)\n",
        "val_accuracy = accuracy_score(y_Val, y_pred_val)\n",
        "\n",
        "print(f'Training classification report: \\n{train_report}')\n",
        "print(f'Testing classification report: \\n{val_report}')\n",
        "print(f'Training accuracy: {train_accuracy}')\n",
        "print(f'\\nTesting accuracy: {val_accuracy}')"
      ],
      "metadata": {
        "colab": {
          "base_uri": "https://localhost:8080/"
        },
        "id": "UbNErQ9Zua2-",
        "outputId": "f83b0bf7-5cb7-459f-e41e-c31122a3e5ca"
      },
      "execution_count": null,
      "outputs": [
        {
          "output_type": "stream",
          "name": "stdout",
          "text": [
            "Training classification report: \n",
            "              precision    recall  f1-score   support\n",
            "\n",
            "           0       0.18      0.68      0.29        60\n",
            "           1       0.94      0.62      0.75       490\n",
            "\n",
            "    accuracy                           0.63       550\n",
            "   macro avg       0.56      0.65      0.52       550\n",
            "weighted avg       0.86      0.63      0.70       550\n",
            "\n",
            "Testing classification report: \n",
            "              precision    recall  f1-score   support\n",
            "\n",
            "           0       0.20      0.56      0.29        41\n",
            "           1       0.88      0.59      0.71       230\n",
            "\n",
            "    accuracy                           0.59       271\n",
            "   macro avg       0.54      0.58      0.50       271\n",
            "weighted avg       0.78      0.59      0.65       271\n",
            "\n",
            "Training accuracy: 0.6309090909090909\n",
            "\n",
            "Testing accuracy: 0.5867158671586716\n"
          ]
        }
      ]
    },
    {
      "cell_type": "markdown",
      "source": [
        "**Early Stage Cancer vs Healthy**"
      ],
      "metadata": {
        "id": "niKbnZlzvso2"
      }
    },
    {
      "cell_type": "code",
      "source": [
        "filteredTrain = TrainData[(TrainData['class_label'] == 'early stage cancer') | (TrainData['class_label'] == 'healthy')]\n",
        "filteredTest = TestData[(TestData['class_label'] == 'early stage cancer') | (TestData['class_label'] =='healthy')]\n",
        "\n",
        "# 0: Healthy | 1: Early Stage Cancer\n",
        "X_Train = filteredTrain.drop(['class_label', 'binary_label'], axis=1)\n",
        "y_Train = filteredTrain['binary_label']\n",
        "X_Val = filteredTest.drop(['class_label', 'binary_label'], axis=1)\n",
        "y_Val = filteredTest['binary_label']\n",
        "\n",
        "scaler = StandardScaler()\n",
        "X_Train, X_Val = scaler.fit_transform(X_Train), scaler.transform(X_Val)\n",
        "\n",
        "X_Train.shape, X_Val.shape, y_Train.value_counts(), y_Val.value_counts()"
      ],
      "metadata": {
        "id": "PE1JGz6Qv0ra"
      },
      "execution_count": null,
      "outputs": []
    },
    {
      "cell_type": "code",
      "source": [
        "svm_clf = SVC(kernel='linear', probability=True, class_weight='balanced')\n",
        "svm_clf.fit(X_Train, y_Train)\n",
        "\n",
        "y_pred_train = svm_clf.predict(X_Train)\n",
        "y_pred_val = svm_clf.predict(X_Val)\n",
        "\n",
        "train_report = classification_report(y_Train, y_pred_train)\n",
        "val_report = classification_report(y_Val, y_pred_val)\n",
        "\n",
        "train_accuracy = accuracy_score(y_Train, y_pred_train)\n",
        "val_accuracy = accuracy_score(y_Val, y_pred_val)\n",
        "\n",
        "print(f'Training classification report: \\n{train_report}')\n",
        "print(f'Testing classification report: \\n{val_report}')\n",
        "print(f'Training accuracy: {train_accuracy}')\n",
        "print(f'\\nTesting accuracy: {val_accuracy}')"
      ],
      "metadata": {
        "colab": {
          "base_uri": "https://localhost:8080/"
        },
        "id": "Uf70Utfiv8YG",
        "outputId": "75471884-7646-4b64-fe9b-cd8ead5f28aa"
      },
      "execution_count": null,
      "outputs": [
        {
          "output_type": "stream",
          "name": "stdout",
          "text": [
            "Training classification report: \n",
            "              precision    recall  f1-score   support\n",
            "\n",
            "           0       0.50      0.98      0.66        60\n",
            "           1       1.00      0.92      0.96       781\n",
            "\n",
            "    accuracy                           0.93       841\n",
            "   macro avg       0.75      0.95      0.81       841\n",
            "weighted avg       0.96      0.93      0.94       841\n",
            "\n",
            "Testing classification report: \n",
            "              precision    recall  f1-score   support\n",
            "\n",
            "           0       0.51      0.85      0.64        41\n",
            "           1       0.98      0.91      0.94       368\n",
            "\n",
            "    accuracy                           0.90       409\n",
            "   macro avg       0.75      0.88      0.79       409\n",
            "weighted avg       0.94      0.90      0.91       409\n",
            "\n",
            "Training accuracy: 0.9274673008323424\n",
            "\n",
            "Testing accuracy: 0.9046454767726161\n"
          ]
        }
      ]
    },
    {
      "cell_type": "markdown",
      "source": [
        "References:\n",
        "* Hearst, M. A., Dumais, S. T., Osuna, E., Platt, J., & Scholkopf, B. (1998). Support vector machines. IEEE Intelligent Systems and their applications, 13(4), 18-28.\n",
        "* scikit learn. (2018). 1.4. Support Vector Machines — scikit-learn 0.20.3 documentation. Scikit-Learn.org. https://scikit-learn.org/stable/modules/svm.html\n",
        "* Pisner, D. A., & Schnyer, D. M. (2020). Support vector machine. In Machine learning (pp. 101-121). Academic Press."
      ],
      "metadata": {
        "id": "2Y8EIkG2zc4E"
      }
    },
    {
      "cell_type": "markdown",
      "source": [
        "# Decision Tree and Random Forest by Jiarui"
      ],
      "metadata": {
        "id": "QEAeiaoaGZRD"
      }
    },
    {
      "cell_type": "code",
      "source": [
        "from sklearn.tree import DecisionTreeClassifier\n",
        "from sklearn.ensemble import RandomForestClassifier\n",
        "from sklearn.metrics import classification_report, confusion_matrix, accuracy_score, roc_curve, auc\n",
        "from sklearn.preprocessing import StandardScaler\n",
        "import matplotlib.pyplot as plt\n",
        "\n",
        "Train_data = 'Train_Set.csv'\n",
        "Test_data = 'Test_Set.csv'\n",
        "\n",
        "Train_dataset = pd.read_csv(Train_data)\n",
        "Test_dataset = pd.read_csv(Test_data)\n",
        "\n",
        "int_label = {'healthy': 0, 'screening stage cancer': 1,\n",
        "              'early stage cancer': 1, 'mid stage cancer': 1,\n",
        "              'late stage cancer': 1}\n",
        "\n",
        "Train_dataset['Int_label'] = Train_dataset['class_label'].map(int_label)\n",
        "Test_dataset['Int_label'] = Test_dataset['class_label'].map(int_label)\n",
        "\n",
        "Train_X = Train_dataset.iloc[:, :350]\n",
        "Test_X = Test_dataset.iloc[:, :350]\n",
        "Train_y = Train_dataset['Int_label']\n",
        "Test_y = Test_dataset['Int_label']\n",
        "\n",
        "scaler = StandardScaler()\n",
        "Train_X = scaler.fit_transform(Train_X)\n",
        "Test_X = scaler.transform(Test_X)\n",
        "\n",
        "decision_tree = DecisionTreeClassifier(random_state=0, class_weight='balanced')\n",
        "decision_tree.fit(Train_X, Train_y)\n",
        "random_forest = RandomForestClassifier(random_state=0, class_weight='balanced')\n",
        "random_forest.fit(Train_X, Train_y)\n",
        "\n",
        "Pred_y_DT = decision_tree.predict(Test_X)\n",
        "Pred_y_RF = random_forest.predict(Test_X)\n",
        "\n",
        "classification_report_DT = classification_report(Test_y, Pred_y_DT)\n",
        "confusion_matrix_DT = confusion_matrix(Test_y, Pred_y_DT)\n",
        "accuracy_DT = accuracy_score(Test_y, Pred_y_DT)\n",
        "classification_report_RF = classification_report(Test_y, Pred_y_RF)\n",
        "confusion_matrix_RF = confusion_matrix(Test_y, Pred_y_RF)\n",
        "accuracy_RF = accuracy_score(Test_y, Pred_y_RF)\n",
        "\n",
        "print('\\n Decision Tree:')\n",
        "print(classification_report_DT)\n",
        "print(confusion_matrix_DT)\n",
        "print('\\n Random Forest:')\n",
        "print(classification_report_RF)\n",
        "print(confusion_matrix_RF)\n",
        "\n",
        "y_pred_prob_DT = decision_tree.predict_proba(Test_X)[:, 1]\n",
        "y_pred_prob_RF = random_forest.predict_proba(Test_X)[:, 1]\n",
        "\n",
        "fpr_DT, tpr_DT, thresholds_DT = roc_curve(Test_y, y_pred_prob_DT)\n",
        "fpr_RF, tpr_RF, thresholds_RF = roc_curve(Test_y, y_pred_prob_RF)\n",
        "roc_auc_DT = auc(fpr_DT, tpr_DT)\n",
        "roc_auc_RF = auc(fpr_RF, tpr_RF)\n",
        "\n",
        "plt.figure(figsize=(8, 6))\n",
        "plt.plot(fpr_DT, tpr_DT, color='blue', lw=2, label='ROC curve (area = %0.2f)' % roc_auc_DT)\n",
        "plt.plot([0, 1], [0, 1], color='black', linestyle='--')\n",
        "plt.xlim([0.0, 1.0])\n",
        "plt.ylim([0.0, 1.1])\n",
        "plt.xlabel('False Positive Rate')\n",
        "plt.ylabel('True Positive Rate')\n",
        "plt.title('Receiver Operating Characteristic (ROC) Curve - Decision Tree')\n",
        "plt.legend(loc='lower right')\n",
        "plt.show()\n",
        "\n",
        "plt.figure(figsize=(8, 6))\n",
        "plt.plot(fpr_RF, tpr_RF, color='blue', lw=2, label='ROC curve (area = %0.2f)' % roc_auc_RF)\n",
        "plt.plot([0, 1], [0, 1], color='black', linestyle='--')\n",
        "plt.xlim([0.0, 1.0])\n",
        "plt.ylim([0.0, 1.1])\n",
        "plt.xlabel('False Positive Rate')\n",
        "plt.ylabel('True Positive Rate')\n",
        "plt.title('Receiver Operating Characteristic (ROC) Curve - Random Forest')\n",
        "plt.legend(loc='lower right')\n",
        "plt.show()"
      ],
      "metadata": {
        "colab": {
          "base_uri": "https://localhost:8080/",
          "height": 1000
        },
        "id": "SKbeY_YfOoTD",
        "outputId": "620340a3-294a-4dd7-bd87-fe1bb3505ce5"
      },
      "execution_count": null,
      "outputs": [
        {
          "output_type": "stream",
          "name": "stdout",
          "text": [
            "\n",
            " Decision Tree:\n",
            "              precision    recall  f1-score   support\n",
            "\n",
            "           0       0.20      0.24      0.22        41\n",
            "           1       0.97      0.96      0.96       993\n",
            "\n",
            "    accuracy                           0.93      1034\n",
            "   macro avg       0.58      0.60      0.59      1034\n",
            "weighted avg       0.94      0.93      0.93      1034\n",
            "\n",
            "[[ 10  31]\n",
            " [ 40 953]]\n",
            "\n",
            " Random Forest:\n",
            "              precision    recall  f1-score   support\n",
            "\n",
            "           0       1.00      0.02      0.05        41\n",
            "           1       0.96      1.00      0.98       993\n",
            "\n",
            "    accuracy                           0.96      1034\n",
            "   macro avg       0.98      0.51      0.51      1034\n",
            "weighted avg       0.96      0.96      0.94      1034\n",
            "\n",
            "[[  1  40]\n",
            " [  0 993]]\n"
          ]
        },
        {
          "output_type": "display_data",
          "data": {
            "text/plain": [
              "<Figure size 800x600 with 1 Axes>"
            ],
            "image/png": "[encoded data removed]"
          },
          "metadata": {}
        },
        {
          "output_type": "display_data",
          "data": {
            "text/plain": [
              "<Figure size 800x600 with 1 Axes>"
            ],
            "image/png": "[encoded data removed]"
          },
          "metadata": {}
        }
      ]
    },
    {
      "cell_type": "markdown",
      "source": [
        "**Screening Stage Cancer vs. Healthy**"
      ],
      "metadata": {
        "id": "LoZ9rq7-uDa7"
      }
    },
    {
      "cell_type": "code",
      "source": [
        "from sklearn.tree import DecisionTreeClassifier\n",
        "from sklearn.ensemble import RandomForestClassifier\n",
        "from sklearn.metrics import classification_report, confusion_matrix, accuracy_score\n",
        "from sklearn.preprocessing import StandardScaler\n",
        "\n",
        "Train_data = 'Train_Set.csv'\n",
        "Test_data = 'Test_Set.csv'\n",
        "\n",
        "Train_dataset = pd.read_csv(Train_data)\n",
        "Test_dataset = pd.read_csv(Test_data)\n",
        "\n",
        "int_label = {'healthy': 0, 'screening stage cancer': 1}\n",
        "\n",
        "Train_dataset['Int_label'] = Train_dataset['class_label'].map(int_label)\n",
        "Test_dataset['Int_label'] = Test_dataset['class_label'].map(int_label)\n",
        "\n",
        "Train_dataset = Train_dataset.dropna(subset=['Int_label']).reset_index(drop=True)\n",
        "Test_dataset = Test_dataset.dropna(subset=['Int_label']).reset_index(drop=True)\n",
        "\n",
        "Train_dataset['Int_label'] = Train_dataset['Int_label'].astype(int)\n",
        "Test_dataset['Int_label'] = Test_dataset['Int_label'].astype(int)\n",
        "\n",
        "Train_X = Train_dataset.iloc[:, :350]\n",
        "Test_X = Test_dataset.iloc[:, :350]\n",
        "Train_y = Train_dataset['Int_label']\n",
        "Test_y = Test_dataset['Int_label']\n",
        "\n",
        "scaler = StandardScaler()\n",
        "Train_X = scaler.fit_transform(Train_X)\n",
        "Test_X = scaler.transform(Test_X)\n",
        "\n",
        "decision_tree = DecisionTreeClassifier(random_state=0, class_weight='balanced')\n",
        "decision_tree.fit(Train_X, Train_y)\n",
        "random_forest = RandomForestClassifier(random_state=0, class_weight='balanced')\n",
        "random_forest.fit(Train_X, Train_y)\n",
        "\n",
        "Pred_y_DT = decision_tree.predict(Test_X)\n",
        "Pred_y_DT_train = decision_tree.predict(Train_X)\n",
        "Pred_y_RF = random_forest.predict(Test_X)\n",
        "Pred_y_RF_train = random_forest.predict(Train_X)\n",
        "\n",
        "classification_report_DT = classification_report(Test_y, Pred_y_DT)\n",
        "confusion_matrix_DT = confusion_matrix(Test_y, Pred_y_DT)\n",
        "accuracy_DT = accuracy_score(Test_y, Pred_y_DT)\n",
        "accuracy_DT_train = accuracy_score(Train_y, Pred_y_DT_train)\n",
        "classification_report_RF = classification_report(Test_y, Pred_y_RF)\n",
        "confusion_matrix_RF = confusion_matrix(Test_y, Pred_y_RF)\n",
        "accuracy_RF = accuracy_score(Test_y, Pred_y_RF)\n",
        "accuracy_RF_train = accuracy_score(Train_y, Pred_y_RF_train)\n",
        "\n",
        "print('\\nDecision Tree:')\n",
        "print(classification_report_DT)\n",
        "print(confusion_matrix_DT)\n",
        "print(f'\\nTraining accuracy: {accuracy_DT_train}')\n",
        "# Training accuracy would be 1.0 because 'max_depth=None'\n",
        "#   would capture all features in the training dataset.\n",
        "print(f'\\nTesting accuracy: {accuracy_DT}')\n",
        "print('\\nRandom Forest:')\n",
        "print(classification_report_RF)\n",
        "print(confusion_matrix_RF)\n",
        "print(f'\\nTraining accuracy: {accuracy_RF_train}')\n",
        "print(f'\\nTesting accuracy: {accuracy_RF}')"
      ],
      "metadata": {
        "colab": {
          "base_uri": "https://localhost:8080/"
        },
        "id": "jWWcRr14uCs6",
        "outputId": "c0b00b7c-29b4-4c6d-9084-1c1d8affd949"
      },
      "execution_count": null,
      "outputs": [
        {
          "output_type": "stream",
          "name": "stdout",
          "text": [
            "\n",
            "Decision Tree:\n",
            "              precision    recall  f1-score   support\n",
            "\n",
            "           0       0.28      0.41      0.33        41\n",
            "           1       0.89      0.81      0.85       230\n",
            "\n",
            "    accuracy                           0.75       271\n",
            "   macro avg       0.58      0.61      0.59       271\n",
            "weighted avg       0.79      0.75      0.77       271\n",
            "\n",
            "[[ 17  24]\n",
            " [ 44 186]]\n",
            "\n",
            "Training accuracy: 1.0\n",
            "\n",
            "Testing accuracy: 0.7490774907749077\n",
            "\n",
            "Random Forest:\n",
            "              precision    recall  f1-score   support\n",
            "\n",
            "           0       1.00      0.02      0.05        41\n",
            "           1       0.85      1.00      0.92       230\n",
            "\n",
            "    accuracy                           0.85       271\n",
            "   macro avg       0.93      0.51      0.48       271\n",
            "weighted avg       0.87      0.85      0.79       271\n",
            "\n",
            "[[  1  40]\n",
            " [  0 230]]\n",
            "\n",
            "Training accuracy: 1.0\n",
            "\n",
            "Testing accuracy: 0.8523985239852399\n"
          ]
        }
      ]
    },
    {
      "cell_type": "markdown",
      "source": [
        "**Early Stage Cancer vs. Healthy**"
      ],
      "metadata": {
        "id": "PmI5hAKduJzA"
      }
    },
    {
      "cell_type": "code",
      "source": [
        "from sklearn.tree import DecisionTreeClassifier\n",
        "from sklearn.ensemble import RandomForestClassifier\n",
        "from sklearn.metrics import classification_report, confusion_matrix, accuracy_score\n",
        "from sklearn.preprocessing import StandardScaler\n",
        "\n",
        "Train_data = 'Train_Set.csv'\n",
        "Test_data = 'Test_Set.csv'\n",
        "\n",
        "Train_dataset = pd.read_csv(Train_data)\n",
        "Test_dataset = pd.read_csv(Test_data)\n",
        "\n",
        "int_label = {'healthy': 0, 'early stage cancer': 1}\n",
        "\n",
        "Train_dataset['Int_label'] = Train_dataset['class_label'].map(int_label)\n",
        "Test_dataset['Int_label'] = Test_dataset['class_label'].map(int_label)\n",
        "\n",
        "Train_dataset = Train_dataset.dropna(subset=['Int_label']).reset_index(drop=True)\n",
        "Test_dataset = Test_dataset.dropna(subset=['Int_label']).reset_index(drop=True)\n",
        "\n",
        "Train_dataset['Int_label'] = Train_dataset['Int_label'].astype(int)\n",
        "Test_dataset['Int_label'] = Test_dataset['Int_label'].astype(int)\n",
        "\n",
        "Train_X = Train_dataset.iloc[:, :350]\n",
        "Test_X = Test_dataset.iloc[:, :350]\n",
        "Train_y = Train_dataset['Int_label']\n",
        "Test_y = Test_dataset['Int_label']\n",
        "\n",
        "scaler = StandardScaler()\n",
        "Train_X = scaler.fit_transform(Train_X)\n",
        "Test_X = scaler.transform(Test_X)\n",
        "\n",
        "decision_tree = DecisionTreeClassifier(random_state=0, class_weight='balanced')\n",
        "decision_tree.fit(Train_X, Train_y)\n",
        "random_forest = RandomForestClassifier(random_state=0, class_weight='balanced')\n",
        "random_forest.fit(Train_X, Train_y)\n",
        "\n",
        "Pred_y_DT = decision_tree.predict(Test_X)\n",
        "Pred_y_DT_train = decision_tree.predict(Train_X)\n",
        "Pred_y_RF = random_forest.predict(Test_X)\n",
        "Pred_y_RF_train = random_forest.predict(Train_X)\n",
        "\n",
        "classification_report_DT = classification_report(Test_y, Pred_y_DT)\n",
        "confusion_matrix_DT = confusion_matrix(Test_y, Pred_y_DT)\n",
        "accuracy_DT = accuracy_score(Test_y, Pred_y_DT)\n",
        "accuracy_DT_train = accuracy_score(Train_y, Pred_y_DT_train)\n",
        "classification_report_RF = classification_report(Test_y, Pred_y_RF)\n",
        "confusion_matrix_RF = confusion_matrix(Test_y, Pred_y_RF)\n",
        "accuracy_RF = accuracy_score(Test_y, Pred_y_RF)\n",
        "accuracy_RF_train = accuracy_score(Train_y, Pred_y_RF_train)\n",
        "\n",
        "print('\\nDecision Tree:')\n",
        "print(classification_report_DT)\n",
        "print(confusion_matrix_DT)\n",
        "print(f'\\nTraining accuracy: {accuracy_DT_train}')\n",
        "# Training accuracy would be 1.0 because 'max_depth=None'\n",
        "#   would capture all features in the training dataset.\n",
        "print(f'\\nTesting accuracy: {accuracy_DT}')\n",
        "print('\\nRandom Forest:')\n",
        "print(classification_report_RF)\n",
        "print(confusion_matrix_RF)\n",
        "print(f'\\nTraining accuracy: {accuracy_RF_train}')\n",
        "print(f'\\nTesting accuracy: {accuracy_RF}')"
      ],
      "metadata": {
        "colab": {
          "base_uri": "https://localhost:8080/"
        },
        "id": "Q9Vygr2y3IyH",
        "outputId": "06235324-0e9a-4d0c-d248-e9e52d094c65"
      },
      "execution_count": null,
      "outputs": [
        {
          "output_type": "stream",
          "name": "stdout",
          "text": [
            "\n",
            "Decision Tree:\n",
            "              precision    recall  f1-score   support\n",
            "\n",
            "           0       0.37      0.54      0.44        41\n",
            "           1       0.95      0.90      0.92       368\n",
            "\n",
            "    accuracy                           0.86       409\n",
            "   macro avg       0.66      0.72      0.68       409\n",
            "weighted avg       0.89      0.86      0.87       409\n",
            "\n",
            "[[ 22  19]\n",
            " [ 37 331]]\n",
            "\n",
            "Training accuracy: 1.0\n",
            "\n",
            "Testing accuracy: 0.863080684596577\n",
            "\n",
            "Random Forest:\n",
            "              precision    recall  f1-score   support\n",
            "\n",
            "           0       0.50      0.39      0.44        41\n",
            "           1       0.93      0.96      0.94       368\n",
            "\n",
            "    accuracy                           0.90       409\n",
            "   macro avg       0.72      0.67      0.69       409\n",
            "weighted avg       0.89      0.90      0.89       409\n",
            "\n",
            "[[ 16  25]\n",
            " [ 16 352]]\n",
            "\n",
            "Training accuracy: 1.0\n",
            "\n",
            "Testing accuracy: 0.8997555012224939\n"
          ]
        }
      ]
    },
    {
      "cell_type": "markdown",
      "source": [
        "References:\n",
        "* L. Breiman, J. Friedman, R. Olshen, and C. Stone, “Classification and Regression Trees”, Wadsworth, Belmont, CA, 1984.\n",
        "* T. Hastie, R. Tibshirani and J. Friedman. “Elements of Statistical Learning”, Springer, 2009.\n",
        "* L. Breiman, “Random Forests”, Machine Learning, 45(1), 5-32, 2001."
      ],
      "metadata": {
        "id": "zSPCDdNFaDVy"
      }
    },
    {
      "cell_type": "markdown",
      "source": [
        "# ANN by Hui En"
      ],
      "metadata": {
        "id": "5JWZVZafUTSq"
      }
    },
    {
      "cell_type": "markdown",
      "source": [
        "**healthy vs cancer**"
      ],
      "metadata": {
        "id": "Xwu1Y0eZUl5R"
      }
    },
    {
      "cell_type": "code",
      "source": [
        "import pandas as pd\n",
        "import numpy as np\n",
        "import tensorflow as tf\n",
        "import keras\n",
        "import matplotlib.pyplot as plt\n",
        "from keras.models import Sequential\n",
        "from keras.layers import Flatten, Dense, Conv1D, MaxPool1D, Dropout\n",
        "from keras.callbacks import EarlyStopping\n",
        "from sklearn.preprocessing import StandardScaler, MinMaxScaler\n",
        "from sklearn.metrics import confusion_matrix, ConfusionMatrixDisplay, classification_report, accuracy_score, roc_curve, auc\n",
        "from imblearn.over_sampling import SMOTE\n",
        "\n",
        "# read dataset\n",
        "train_df = pd.read_csv('Train_Set.csv')\n",
        "test_df = pd.read_csv('Test_Set.csv')\n",
        "\n",
        "# extract input dataset\n",
        "train_x = train_df.drop(columns=['class_label'])\n",
        "test_x = test_df.drop(columns=['class_label'])\n",
        "\n",
        "# extract label (output)\n",
        "# 0 - healthy\n",
        "# 1 - cancer\n",
        "train_y = train_df[['class_label']]\n",
        "train_y['binary'] = train_y['class_label'].apply(lambda x: 0 if x == 'healthy' else 1)\n",
        "test_y = test_df[['class_label']]\n",
        "test_y['binary'] = test_y['class_label'].apply(lambda x: 0 if x == 'healthy' else 1)\n",
        "\n",
        "# oversampling\n",
        "x_resampled, y_resampled = SMOTE().fit_resample(train_x, train_y['binary'])\n",
        "\n",
        "# feature scaling\n",
        "scaler = MinMaxScaler()\n",
        "t_train_x = scaler.fit_transform(x_resampled)\n",
        "t_test_x = scaler.transform(test_x)"
      ],
      "metadata": {
        "id": "hewlluu8UJ3s",
        "colab": {
          "base_uri": "https://localhost:8080/"
        },
        "outputId": "e4efa26c-9c43-481d-f040-a74a8a85ba73"
      },
      "execution_count": null,
      "outputs": [
        {
          "output_type": "stream",
          "name": "stderr",
          "text": [
            "<ipython-input-1-ee020948260e>:25: SettingWithCopyWarning: \n",
            "A value is trying to be set on a copy of a slice from a DataFrame.\n",
            "Try using .loc[row_indexer,col_indexer] = value instead\n",
            "\n",
            "See the caveats in the documentation: https://pandas.pydata.org/pandas-docs/stable/user_guide/indexing.html#returning-a-view-versus-a-copy\n",
            "  train_y['binary'] = train_y['class_label'].apply(lambda x: 0 if x == 'healthy' else 1)\n",
            "<ipython-input-1-ee020948260e>:27: SettingWithCopyWarning: \n",
            "A value is trying to be set on a copy of a slice from a DataFrame.\n",
            "Try using .loc[row_indexer,col_indexer] = value instead\n",
            "\n",
            "See the caveats in the documentation: https://pandas.pydata.org/pandas-docs/stable/user_guide/indexing.html#returning-a-view-versus-a-copy\n",
            "  test_y['binary'] = test_y['class_label'].apply(lambda x: 0 if x == 'healthy' else 1)\n"
          ]
        }
      ]
    },
    {
      "cell_type": "code",
      "source": [
        "model = keras.Sequential([\n",
        "        keras.layers.Dense(units=32, activation=\"relu\", input_shape=(t_train_x.shape[-1],) ),\n",
        "        # randomly delete 20% of the input units below, regularization to reduce overfitting\n",
        "        keras.layers.Dropout(0.2),\n",
        "        keras.layers.Dense(units=10, activation=\"relu\"),\n",
        "        # the output layer, with a single neuron\n",
        "        keras.layers.Dense(units=1, activation=\"sigmoid\"),]\n",
        ")\n",
        "\n",
        "model.compile(optimizer=keras.optimizers.Adam(learning_rate=0.001),\n",
        "              loss=\"binary_crossentropy\",\n",
        "              metrics=['accuracy']\n",
        ")\n",
        "\n",
        "model.fit(t_train_x, y_resampled, epochs=50, batch_size=100)"
      ],
      "metadata": {
        "id": "auXw6bURUuo1",
        "colab": {
          "base_uri": "https://localhost:8080/"
        },
        "outputId": "e8f84419-2367-4fbc-d7ad-a74468461106"
      },
      "execution_count": null,
      "outputs": [
        {
          "output_type": "stream",
          "name": "stdout",
          "text": [
            "Epoch 1/50\n",
            "43/43 [==============================] - 1s 2ms/step - loss: 0.6786 - accuracy: 0.5408\n",
            "Epoch 2/50\n",
            "43/43 [==============================] - 0s 2ms/step - loss: 0.5855 - accuracy: 0.6835\n",
            "Epoch 3/50\n",
            "43/43 [==============================] - 0s 2ms/step - loss: 0.5429 - accuracy: 0.7201\n",
            "Epoch 4/50\n",
            "43/43 [==============================] - 0s 2ms/step - loss: 0.5187 - accuracy: 0.7436\n",
            "Epoch 5/50\n",
            "43/43 [==============================] - 0s 2ms/step - loss: 0.5049 - accuracy: 0.7571\n",
            "Epoch 6/50\n",
            "43/43 [==============================] - 0s 2ms/step - loss: 0.4921 - accuracy: 0.7623\n",
            "Epoch 7/50\n",
            "43/43 [==============================] - 0s 2ms/step - loss: 0.4942 - accuracy: 0.7630\n",
            "Epoch 8/50\n",
            "43/43 [==============================] - 0s 2ms/step - loss: 0.4826 - accuracy: 0.7726\n",
            "Epoch 9/50\n",
            "43/43 [==============================] - 0s 2ms/step - loss: 0.4720 - accuracy: 0.7768\n",
            "Epoch 10/50\n",
            "43/43 [==============================] - 0s 2ms/step - loss: 0.4702 - accuracy: 0.7714\n",
            "Epoch 11/50\n",
            "43/43 [==============================] - 0s 2ms/step - loss: 0.4627 - accuracy: 0.7865\n",
            "Epoch 12/50\n",
            "43/43 [==============================] - 0s 2ms/step - loss: 0.4545 - accuracy: 0.7890\n",
            "Epoch 13/50\n",
            "43/43 [==============================] - 0s 2ms/step - loss: 0.4527 - accuracy: 0.7977\n",
            "Epoch 14/50\n",
            "43/43 [==============================] - 0s 2ms/step - loss: 0.4501 - accuracy: 0.7918\n",
            "Epoch 15/50\n",
            "43/43 [==============================] - 0s 2ms/step - loss: 0.4466 - accuracy: 0.7954\n",
            "Epoch 16/50\n",
            "43/43 [==============================] - 0s 2ms/step - loss: 0.4438 - accuracy: 0.7923\n",
            "Epoch 17/50\n",
            "43/43 [==============================] - 0s 2ms/step - loss: 0.4405 - accuracy: 0.7954\n",
            "Epoch 18/50\n",
            "43/43 [==============================] - 0s 2ms/step - loss: 0.4368 - accuracy: 0.8040\n",
            "Epoch 19/50\n",
            "43/43 [==============================] - 0s 2ms/step - loss: 0.4382 - accuracy: 0.7947\n",
            "Epoch 20/50\n",
            "43/43 [==============================] - 0s 2ms/step - loss: 0.4364 - accuracy: 0.7972\n",
            "Epoch 21/50\n",
            "43/43 [==============================] - 0s 2ms/step - loss: 0.4281 - accuracy: 0.7998\n",
            "Epoch 22/50\n",
            "43/43 [==============================] - 0s 2ms/step - loss: 0.4319 - accuracy: 0.7947\n",
            "Epoch 23/50\n",
            "43/43 [==============================] - 0s 2ms/step - loss: 0.4279 - accuracy: 0.8015\n",
            "Epoch 24/50\n",
            "43/43 [==============================] - 0s 2ms/step - loss: 0.4226 - accuracy: 0.8050\n",
            "Epoch 25/50\n",
            "43/43 [==============================] - 0s 2ms/step - loss: 0.4202 - accuracy: 0.8090\n",
            "Epoch 26/50\n",
            "43/43 [==============================] - 0s 3ms/step - loss: 0.4218 - accuracy: 0.8085\n",
            "Epoch 27/50\n",
            "43/43 [==============================] - 0s 2ms/step - loss: 0.4257 - accuracy: 0.8040\n",
            "Epoch 28/50\n",
            "43/43 [==============================] - 0s 3ms/step - loss: 0.4188 - accuracy: 0.8080\n",
            "Epoch 29/50\n",
            "43/43 [==============================] - 0s 2ms/step - loss: 0.4105 - accuracy: 0.8197\n",
            "Epoch 30/50\n",
            "43/43 [==============================] - 0s 2ms/step - loss: 0.4186 - accuracy: 0.8083\n",
            "Epoch 31/50\n",
            "43/43 [==============================] - 0s 2ms/step - loss: 0.4113 - accuracy: 0.8129\n",
            "Epoch 32/50\n",
            "43/43 [==============================] - 0s 3ms/step - loss: 0.4082 - accuracy: 0.8106\n",
            "Epoch 33/50\n",
            "43/43 [==============================] - 0s 4ms/step - loss: 0.4084 - accuracy: 0.8127\n",
            "Epoch 34/50\n",
            "43/43 [==============================] - 0s 3ms/step - loss: 0.4102 - accuracy: 0.8136\n",
            "Epoch 35/50\n",
            "43/43 [==============================] - 0s 3ms/step - loss: 0.4145 - accuracy: 0.8059\n",
            "Epoch 36/50\n",
            "43/43 [==============================] - 0s 3ms/step - loss: 0.4140 - accuracy: 0.8101\n",
            "Epoch 37/50\n",
            "43/43 [==============================] - 0s 3ms/step - loss: 0.4088 - accuracy: 0.8061\n",
            "Epoch 38/50\n",
            "43/43 [==============================] - 0s 3ms/step - loss: 0.4044 - accuracy: 0.8169\n",
            "Epoch 39/50\n",
            "43/43 [==============================] - 0s 3ms/step - loss: 0.4125 - accuracy: 0.8061\n",
            "Epoch 40/50\n",
            "43/43 [==============================] - 0s 3ms/step - loss: 0.4093 - accuracy: 0.8141\n",
            "Epoch 41/50\n",
            "43/43 [==============================] - 0s 3ms/step - loss: 0.4099 - accuracy: 0.8153\n",
            "Epoch 42/50\n",
            "43/43 [==============================] - 0s 3ms/step - loss: 0.4012 - accuracy: 0.8237\n",
            "Epoch 43/50\n",
            "43/43 [==============================] - 0s 3ms/step - loss: 0.3982 - accuracy: 0.8197\n",
            "Epoch 44/50\n",
            "43/43 [==============================] - 0s 4ms/step - loss: 0.3956 - accuracy: 0.8223\n",
            "Epoch 45/50\n",
            "43/43 [==============================] - 0s 4ms/step - loss: 0.3955 - accuracy: 0.8172\n",
            "Epoch 46/50\n",
            "43/43 [==============================] - 0s 3ms/step - loss: 0.3925 - accuracy: 0.8268\n",
            "Epoch 47/50\n",
            "43/43 [==============================] - 0s 3ms/step - loss: 0.3930 - accuracy: 0.8218\n",
            "Epoch 48/50\n",
            "43/43 [==============================] - 0s 4ms/step - loss: 0.3910 - accuracy: 0.8204\n",
            "Epoch 49/50\n",
            "43/43 [==============================] - 0s 3ms/step - loss: 0.3943 - accuracy: 0.8158\n",
            "Epoch 50/50\n",
            "43/43 [==============================] - 0s 3ms/step - loss: 0.3862 - accuracy: 0.8279\n"
          ]
        },
        {
          "output_type": "execute_result",
          "data": {
            "text/plain": [
              "<keras.src.callbacks.History at 0x7f7d4b5f7940>"
            ]
          },
          "metadata": {},
          "execution_count": 2
        }
      ]
    },
    {
      "cell_type": "code",
      "source": [
        "accuracy = model.evaluate(t_test_x, test_y['binary'])\n",
        "print('Loss = ',accuracy[0])\n",
        "print('Accuracy = ',accuracy[1])\n",
        "\n",
        "predicted = model.predict(t_test_x)\n",
        "predicted = tf.squeeze(predicted)\n",
        "predicted = np.array([1 if x >= 0.5 else 0 for x in predicted])\n",
        "\n",
        "classification_mm_1 = classification_report(test_y['binary'], predicted)\n",
        "print(classification_mm_1)"
      ],
      "metadata": {
        "id": "Q0ASpIX2UvoY",
        "colab": {
          "base_uri": "https://localhost:8080/"
        },
        "outputId": "aa2a9dd4-8e94-4512-ca7f-7fec3493d4d3"
      },
      "execution_count": null,
      "outputs": [
        {
          "output_type": "stream",
          "name": "stdout",
          "text": [
            "33/33 [==============================] - 0s 1ms/step - loss: 0.5393 - accuracy: 0.7340\n",
            "Loss =  0.5393275022506714\n",
            "Accuracy =  0.7340425252914429\n",
            "33/33 [==============================] - 0s 1ms/step\n",
            "              precision    recall  f1-score   support\n",
            "\n",
            "           0       0.11      0.80      0.19        41\n",
            "           1       0.99      0.73      0.84       993\n",
            "\n",
            "    accuracy                           0.73      1034\n",
            "   macro avg       0.55      0.77      0.52      1034\n",
            "weighted avg       0.95      0.73      0.82      1034\n",
            "\n"
          ]
        }
      ]
    },
    {
      "cell_type": "markdown",
      "source": [
        "**ROC Curve**"
      ],
      "metadata": {
        "id": "Tf8nlQzIUzqI"
      }
    },
    {
      "cell_type": "code",
      "source": [
        "# roc\n",
        "fpr_keras, tpr_keras, thresholds_keras = roc_curve(test_y['binary'], predicted)\n",
        "\n",
        "auc_keras = auc(fpr_keras, tpr_keras)\n",
        "\n",
        "plt.figure(1)\n",
        "plt.plot([0, 1], [0, 1], 'k--')\n",
        "plt.plot(fpr_keras, tpr_keras, label='Keras (area = {:.3f})'.format(auc_keras))\n",
        "plt.xlabel('False positive rate')\n",
        "plt.ylabel('True positive rate')\n",
        "plt.title('ROC curve')\n",
        "plt.legend(loc='best')\n",
        "plt.show()"
      ],
      "metadata": {
        "id": "AJyrVaIxU3jS",
        "colab": {
          "base_uri": "https://localhost:8080/",
          "height": 472
        },
        "outputId": "8d90e53b-111e-44c3-b810-bb1d1cd4fbcd"
      },
      "execution_count": null,
      "outputs": [
        {
          "output_type": "display_data",
          "data": {
            "text/plain": [
              "<Figure size 640x480 with 1 Axes>"
            ],
            "image/png": "[encoded data removed]"
          },
          "metadata": {}
        }
      ]
    },
    {
      "cell_type": "markdown",
      "source": [
        "**healthy vs screening stage**"
      ],
      "metadata": {
        "id": "_UieJ_t_U785"
      }
    },
    {
      "cell_type": "code",
      "source": [
        "# filter data\n",
        "f_train = train_df[(train_df['class_label'] == 'healthy') | (train_df['class_label'] == 'screening stage cancer')]\n",
        "f_test = test_df[(test_df['class_label'] == 'healthy') | (test_df['class_label'] == 'screening stage cancer')]\n",
        "train_x = f_train.drop(columns=['class_label'])\n",
        "test_x = f_test.drop(columns=['class_label'])\n",
        "\n",
        "# extract label\n",
        "# 0 - healthy\n",
        "# 1 - screening\n",
        "train_y = f_train[['class_label']]\n",
        "train_y['binary'] = train_y['class_label'].apply(lambda x: 0 if x == 'healthy' else 1)\n",
        "test_y = f_test[['class_label']]\n",
        "test_y['binary'] = test_y['class_label'].apply(lambda x: 0 if x == 'healthy' else 1)\n",
        "\n",
        "# oversampling\n",
        "x_resampled, y_resampled = SMOTE().fit_resample(train_x, train_y['binary'])\n",
        "\n",
        "# feature scaling\n",
        "scaler = MinMaxScaler()\n",
        "t_train_x = scaler.fit_transform(x_resampled)\n",
        "t_test_x = scaler.transform(test_x)"
      ],
      "metadata": {
        "id": "GiFYXphdU_xa",
        "colab": {
          "base_uri": "https://localhost:8080/"
        },
        "outputId": "ece2e8eb-36cc-4c7a-ab42-b268c64a419b"
      },
      "execution_count": null,
      "outputs": [
        {
          "output_type": "stream",
          "name": "stderr",
          "text": [
            "<ipython-input-5-777c02cc8db1>:11: SettingWithCopyWarning: \n",
            "A value is trying to be set on a copy of a slice from a DataFrame.\n",
            "Try using .loc[row_indexer,col_indexer] = value instead\n",
            "\n",
            "See the caveats in the documentation: https://pandas.pydata.org/pandas-docs/stable/user_guide/indexing.html#returning-a-view-versus-a-copy\n",
            "  train_y['binary'] = train_y['class_label'].apply(lambda x: 0 if x == 'healthy' else 1)\n",
            "<ipython-input-5-777c02cc8db1>:13: SettingWithCopyWarning: \n",
            "A value is trying to be set on a copy of a slice from a DataFrame.\n",
            "Try using .loc[row_indexer,col_indexer] = value instead\n",
            "\n",
            "See the caveats in the documentation: https://pandas.pydata.org/pandas-docs/stable/user_guide/indexing.html#returning-a-view-versus-a-copy\n",
            "  test_y['binary'] = test_y['class_label'].apply(lambda x: 0 if x == 'healthy' else 1)\n"
          ]
        }
      ]
    },
    {
      "cell_type": "code",
      "source": [
        "model.fit(t_train_x, y_resampled, epochs=50, batch_size=100)"
      ],
      "metadata": {
        "id": "y9ENYB5jVDSh",
        "colab": {
          "base_uri": "https://localhost:8080/"
        },
        "outputId": "b4998788-10f3-4329-f984-bc9647ea4fd2"
      },
      "execution_count": null,
      "outputs": [
        {
          "output_type": "stream",
          "name": "stdout",
          "text": [
            "Epoch 1/50\n",
            "10/10 [==============================] - 0s 4ms/step - loss: 3.5729 - accuracy: 0.5194\n",
            "Epoch 2/50\n",
            "10/10 [==============================] - 0s 4ms/step - loss: 0.7004 - accuracy: 0.5031\n",
            "Epoch 3/50\n",
            "10/10 [==============================] - 0s 4ms/step - loss: 0.7012 - accuracy: 0.5051\n",
            "Epoch 4/50\n",
            "10/10 [==============================] - 0s 8ms/step - loss: 0.6953 - accuracy: 0.5133\n",
            "Epoch 5/50\n",
            "10/10 [==============================] - 0s 9ms/step - loss: 0.6944 - accuracy: 0.5163\n",
            "Epoch 6/50\n",
            "10/10 [==============================] - 0s 4ms/step - loss: 0.6889 - accuracy: 0.5133\n",
            "Epoch 7/50\n",
            "10/10 [==============================] - 0s 4ms/step - loss: 0.6892 - accuracy: 0.5184\n",
            "Epoch 8/50\n",
            "10/10 [==============================] - 0s 4ms/step - loss: 0.6933 - accuracy: 0.5031\n",
            "Epoch 9/50\n",
            "10/10 [==============================] - 0s 4ms/step - loss: 0.6908 - accuracy: 0.5133\n",
            "Epoch 10/50\n",
            "10/10 [==============================] - 0s 4ms/step - loss: 0.6903 - accuracy: 0.5276\n",
            "Epoch 11/50\n",
            "10/10 [==============================] - 0s 4ms/step - loss: 0.6872 - accuracy: 0.5235\n",
            "Epoch 12/50\n",
            "10/10 [==============================] - 0s 4ms/step - loss: 0.6909 - accuracy: 0.5133\n",
            "Epoch 13/50\n",
            "10/10 [==============================] - 0s 4ms/step - loss: 0.6882 - accuracy: 0.5469\n",
            "Epoch 14/50\n",
            "10/10 [==============================] - 0s 5ms/step - loss: 0.6856 - accuracy: 0.5439\n",
            "Epoch 15/50\n",
            "10/10 [==============================] - 0s 4ms/step - loss: 0.6850 - accuracy: 0.5306\n",
            "Epoch 16/50\n",
            "10/10 [==============================] - 0s 5ms/step - loss: 0.6869 - accuracy: 0.5265\n",
            "Epoch 17/50\n",
            "10/10 [==============================] - 0s 7ms/step - loss: 0.6885 - accuracy: 0.5378\n",
            "Epoch 18/50\n",
            "10/10 [==============================] - 0s 4ms/step - loss: 0.6896 - accuracy: 0.5031\n",
            "Epoch 19/50\n",
            "10/10 [==============================] - 0s 4ms/step - loss: 0.6876 - accuracy: 0.5235\n",
            "Epoch 20/50\n",
            "10/10 [==============================] - 0s 4ms/step - loss: 0.6863 - accuracy: 0.5265\n",
            "Epoch 21/50\n",
            "10/10 [==============================] - 0s 4ms/step - loss: 0.6838 - accuracy: 0.5286\n",
            "Epoch 22/50\n",
            "10/10 [==============================] - 0s 5ms/step - loss: 0.6840 - accuracy: 0.5388\n",
            "Epoch 23/50\n",
            "10/10 [==============================] - 0s 6ms/step - loss: 0.6846 - accuracy: 0.5224\n",
            "Epoch 24/50\n",
            "10/10 [==============================] - 0s 9ms/step - loss: 0.6822 - accuracy: 0.5520\n",
            "Epoch 25/50\n",
            "10/10 [==============================] - 0s 8ms/step - loss: 0.6835 - accuracy: 0.5418\n",
            "Epoch 26/50\n",
            "10/10 [==============================] - 0s 11ms/step - loss: 0.6830 - accuracy: 0.5245\n",
            "Epoch 27/50\n",
            "10/10 [==============================] - 0s 12ms/step - loss: 0.6843 - accuracy: 0.5367\n",
            "Epoch 28/50\n",
            "10/10 [==============================] - 0s 10ms/step - loss: 0.6819 - accuracy: 0.5429\n",
            "Epoch 29/50\n",
            "10/10 [==============================] - 0s 8ms/step - loss: 0.6874 - accuracy: 0.5245\n",
            "Epoch 30/50\n",
            "10/10 [==============================] - 0s 4ms/step - loss: 0.6849 - accuracy: 0.5398\n",
            "Epoch 31/50\n",
            "10/10 [==============================] - 0s 5ms/step - loss: 0.6845 - accuracy: 0.5276\n",
            "Epoch 32/50\n",
            "10/10 [==============================] - 0s 8ms/step - loss: 0.6829 - accuracy: 0.5439\n",
            "Epoch 33/50\n",
            "10/10 [==============================] - 0s 4ms/step - loss: 0.6854 - accuracy: 0.5276\n",
            "Epoch 34/50\n",
            "10/10 [==============================] - 0s 4ms/step - loss: 0.6851 - accuracy: 0.5398\n",
            "Epoch 35/50\n",
            "10/10 [==============================] - 0s 6ms/step - loss: 0.6809 - accuracy: 0.5459\n",
            "Epoch 36/50\n",
            "10/10 [==============================] - 0s 4ms/step - loss: 0.6806 - accuracy: 0.5439\n",
            "Epoch 37/50\n",
            "10/10 [==============================] - 0s 5ms/step - loss: 0.6838 - accuracy: 0.5163\n",
            "Epoch 38/50\n",
            "10/10 [==============================] - 0s 4ms/step - loss: 0.6783 - accuracy: 0.5714\n",
            "Epoch 39/50\n",
            "10/10 [==============================] - 0s 5ms/step - loss: 0.6843 - accuracy: 0.5133\n",
            "Epoch 40/50\n",
            "10/10 [==============================] - 0s 4ms/step - loss: 0.6791 - accuracy: 0.5408\n",
            "Epoch 41/50\n",
            "10/10 [==============================] - 0s 8ms/step - loss: 0.6807 - accuracy: 0.5622\n",
            "Epoch 42/50\n",
            "10/10 [==============================] - 0s 6ms/step - loss: 0.6771 - accuracy: 0.5235\n",
            "Epoch 43/50\n",
            "10/10 [==============================] - 0s 4ms/step - loss: 0.6799 - accuracy: 0.5490\n",
            "Epoch 44/50\n",
            "10/10 [==============================] - 0s 4ms/step - loss: 0.6802 - accuracy: 0.5500\n",
            "Epoch 45/50\n",
            "10/10 [==============================] - 0s 4ms/step - loss: 0.6786 - accuracy: 0.5765\n",
            "Epoch 46/50\n",
            "10/10 [==============================] - 0s 4ms/step - loss: 0.6818 - accuracy: 0.5224\n",
            "Epoch 47/50\n",
            "10/10 [==============================] - 0s 4ms/step - loss: 0.6817 - accuracy: 0.5449\n",
            "Epoch 48/50\n",
            "10/10 [==============================] - 0s 4ms/step - loss: 0.6817 - accuracy: 0.5306\n",
            "Epoch 49/50\n",
            "10/10 [==============================] - 0s 6ms/step - loss: 0.6766 - accuracy: 0.5439\n",
            "Epoch 50/50\n",
            "10/10 [==============================] - 0s 8ms/step - loss: 0.6791 - accuracy: 0.5357\n"
          ]
        },
        {
          "output_type": "execute_result",
          "data": {
            "text/plain": [
              "<keras.src.callbacks.History at 0x7f7d4b633d30>"
            ]
          },
          "metadata": {},
          "execution_count": 6
        }
      ]
    },
    {
      "cell_type": "code",
      "source": [
        "accuracy = model.evaluate(t_test_x, test_y['binary'])\n",
        "print('Loss = ',accuracy[0])\n",
        "print('Accuracy = ',accuracy[1])\n",
        "\n",
        "predicted = model.predict(t_test_x)\n",
        "predicted = tf.squeeze(predicted)\n",
        "predicted = np.array([1 if x >= 0.5 else 0 for x in predicted])\n",
        "\n",
        "classification_mm_1 = classification_report(test_y['binary'], predicted)\n",
        "print(classification_mm_1)"
      ],
      "metadata": {
        "id": "r_Y1DUPDVFKR",
        "colab": {
          "base_uri": "https://localhost:8080/"
        },
        "outputId": "aafee9fa-887c-421a-94cf-04d8e0482763"
      },
      "execution_count": null,
      "outputs": [
        {
          "output_type": "stream",
          "name": "stdout",
          "text": [
            "9/9 [==============================] - 0s 2ms/step - loss: 0.6983 - accuracy: 0.7454\n",
            "Loss =  0.6983321309089661\n",
            "Accuracy =  0.7453874349594116\n",
            "9/9 [==============================] - 0s 2ms/step\n",
            "              precision    recall  f1-score   support\n",
            "\n",
            "           0       0.20      0.22      0.21        41\n",
            "           1       0.86      0.84      0.85       230\n",
            "\n",
            "    accuracy                           0.75       271\n",
            "   macro avg       0.53      0.53      0.53       271\n",
            "weighted avg       0.76      0.75      0.75       271\n",
            "\n"
          ]
        }
      ]
    },
    {
      "cell_type": "markdown",
      "source": [
        "**healthy vs early stage**"
      ],
      "metadata": {
        "id": "ux3NYn8PVHN4"
      }
    },
    {
      "cell_type": "code",
      "source": [
        "# filter data\n",
        "f_train = train_df[(train_df['class_label'] == 'healthy') | (train_df['class_label'] == 'early stage cancer')]\n",
        "f_test = test_df[(test_df['class_label'] == 'healthy') | (test_df['class_label'] == 'early stage cancer')]\n",
        "train_x = f_train.drop(columns=['class_label'])\n",
        "test_x = f_test.drop(columns=['class_label'])\n",
        "\n",
        "# extract label\n",
        "# 0 - healthy\n",
        "# 1 - early\n",
        "train_y = f_train[['class_label']]\n",
        "train_y['binary'] = train_y['class_label'].apply(lambda x: 0 if x == 'healthy' else 1)\n",
        "test_y = f_test[['class_label']]\n",
        "test_y['binary'] = test_y['class_label'].apply(lambda x: 0 if x == 'healthy' else 1)\n",
        "\n",
        "# oversampling\n",
        "x_resampled, y_resampled = SMOTE().fit_resample(train_x, train_y['binary'])\n",
        "\n",
        "# feature scaling\n",
        "scaler = MinMaxScaler()\n",
        "t_train_x = scaler.fit_transform(x_resampled)\n",
        "t_test_x = scaler.transform(test_x)"
      ],
      "metadata": {
        "id": "IrpbK0CPVG8T",
        "colab": {
          "base_uri": "https://localhost:8080/"
        },
        "outputId": "d486a6f2-e09d-4016-f0cb-8adc86a7f946"
      },
      "execution_count": null,
      "outputs": [
        {
          "output_type": "stream",
          "name": "stderr",
          "text": [
            "<ipython-input-8-8669f504df34>:11: SettingWithCopyWarning: \n",
            "A value is trying to be set on a copy of a slice from a DataFrame.\n",
            "Try using .loc[row_indexer,col_indexer] = value instead\n",
            "\n",
            "See the caveats in the documentation: https://pandas.pydata.org/pandas-docs/stable/user_guide/indexing.html#returning-a-view-versus-a-copy\n",
            "  train_y['binary'] = train_y['class_label'].apply(lambda x: 0 if x == 'healthy' else 1)\n",
            "<ipython-input-8-8669f504df34>:13: SettingWithCopyWarning: \n",
            "A value is trying to be set on a copy of a slice from a DataFrame.\n",
            "Try using .loc[row_indexer,col_indexer] = value instead\n",
            "\n",
            "See the caveats in the documentation: https://pandas.pydata.org/pandas-docs/stable/user_guide/indexing.html#returning-a-view-versus-a-copy\n",
            "  test_y['binary'] = test_y['class_label'].apply(lambda x: 0 if x == 'healthy' else 1)\n"
          ]
        }
      ]
    },
    {
      "cell_type": "code",
      "source": [
        "accuracy = model.evaluate(t_test_x, test_y['binary'])\n",
        "print('Loss = ',accuracy[0])\n",
        "print('Accuracy = ',accuracy[1])\n",
        "\n",
        "predicted = model.predict(t_test_x)\n",
        "predicted = tf.squeeze(predicted)\n",
        "predicted = np.array([1 if x >= 0.5 else 0 for x in predicted])\n",
        "\n",
        "classification_mm_1 = classification_report(test_y['binary'], predicted)\n",
        "print(classification_mm_1)"
      ],
      "metadata": {
        "id": "qyt7CEKNVPOJ",
        "colab": {
          "base_uri": "https://localhost:8080/"
        },
        "outputId": "352c4197-6861-4c2b-a887-3790f6acb2b1"
      },
      "execution_count": null,
      "outputs": [
        {
          "output_type": "stream",
          "name": "stdout",
          "text": [
            "13/13 [==============================] - 0s 2ms/step - loss: 0.6858 - accuracy: 0.7531\n",
            "Loss =  0.6857697367668152\n",
            "Accuracy =  0.7530562281608582\n",
            "13/13 [==============================] - 0s 1ms/step\n",
            "              precision    recall  f1-score   support\n",
            "\n",
            "           0       0.23      0.63      0.34        41\n",
            "           1       0.95      0.77      0.85       368\n",
            "\n",
            "    accuracy                           0.75       409\n",
            "   macro avg       0.59      0.70      0.59       409\n",
            "weighted avg       0.88      0.75      0.80       409\n",
            "\n"
          ]
        }
      ]
    }
  ]
}